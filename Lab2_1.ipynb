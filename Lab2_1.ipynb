{
  "nbformat": 4,
  "nbformat_minor": 0,
  "metadata": {
    "colab": {
      "provenance": [],
      "authorship_tag": "ABX9TyOt9k5QRQCbWIUlNGGzY5Dh",
      "include_colab_link": true
    },
    "kernelspec": {
      "name": "python3",
      "display_name": "Python 3"
    },
    "language_info": {
      "name": "python"
    }
  },
  "cells": [
    {
      "cell_type": "markdown",
      "metadata": {
        "id": "view-in-github",
        "colab_type": "text"
      },
      "source": [
        "<a href=\"https://colab.research.google.com/github/2403a52264-debug/AIAC/blob/main/Lab2_1.ipynb\" target=\"_parent\"><img src=\"https://colab.research.google.com/assets/colab-badge.svg\" alt=\"Open In Colab\"/></a>"
      ]
    },
    {
      "cell_type": "code",
      "execution_count": null,
      "metadata": {
        "id": "u9qTc4XdOP78"
      },
      "outputs": [],
      "source": []
    },
    {
      "cell_type": "markdown",
      "source": [
        "Task0:Develop a function where it checks whether the given number is a prime number or not."
      ],
      "metadata": {
        "id": "YE3QwAA_PKEc"
      }
    },
    {
      "cell_type": "code",
      "source": [
        "def is_prime(num):\n",
        "  \"\"\"\n",
        "  Checks if a given number is a prime number.\n",
        "\n",
        "  Args:\n",
        "    num: The number to check.\n",
        "\n",
        "  Returns:\n",
        "    True if the number is prime, False otherwise.\n",
        "  \"\"\"\n",
        "  if num <= 1:\n",
        "    return False\n",
        "  for i in range(2, int(num**0.5) + 1):\n",
        "    if num % i == 0:\n",
        "      return False\n",
        "  return True\n",
        "\n",
        "# Example usage:\n",
        "print(is_prime(17))\n",
        "print(is_prime(10))"
      ],
      "metadata": {
        "colab": {
          "base_uri": "https://localhost:8080/"
        },
        "id": "OyWBY8d_QHNa",
        "outputId": "1c500256-8365-4ced-a470-81e1afbcc882"
      },
      "execution_count": 1,
      "outputs": [
        {
          "output_type": "stream",
          "name": "stdout",
          "text": [
            "True\n",
            "False\n"
          ]
        }
      ]
    },
    {
      "cell_type": "code",
      "source": [
        "1"
      ],
      "metadata": {
        "id": "xP5vsCIRPrVp"
      },
      "execution_count": null,
      "outputs": []
    },
    {
      "cell_type": "markdown",
      "source": [
        "def is_prime(num):: This line defines a function named is_prime that takes one argument, num.\n",
        "if num <= 1:: This checks if the input number num is less than or equal to 1. Prime numbers are defined as being greater than 1, so if the number is 1 or less, the function immediately returns False.\n",
        "`for i in range(2, int(num0.5) + 1):**: This is a loop that iterates through numbers starting from 2 up to the square root ofnum` (inclusive). We only need to check for divisors up to the square root because if a number has a divisor greater than its square root, it must also have a divisor less than its square root.\n",
        "if num % i == 0:: Inside the loop, this line checks if num is divisible by the current number i. If it is, it means num has a divisor other than 1 and itself, so it's not prime. In this case, the function returns False.\n",
        "return True: If the loop finishes without finding any divisors (meaning the if num % i == 0: condition was never met), it means the number is only divisible by 1 and itself, so it is a prime number. The function then returns True."
      ],
      "metadata": {
        "id": "zD8hQeM0RfPV"
      }
    },
    {
      "cell_type": "markdown",
      "source": [],
      "metadata": {
        "id": "JW8ZcVxHQoi-"
      }
    }
  ]
}